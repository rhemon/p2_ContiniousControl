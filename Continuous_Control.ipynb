{
 "cells": [
  {
   "cell_type": "markdown",
   "metadata": {},
   "source": [
    "# Continuous Control\n",
    "\n",
    "---\n",
    "\n",
    "You are welcome to use this coding environment to train your agent for the project.  Follow the instructions below to get started!\n",
    "\n",
    "### 1. Start the Environment\n",
    "\n",
    "Run the next code cell to install a few packages.  This line will take a few minutes to run!"
   ]
  },
  {
   "cell_type": "code",
   "execution_count": 1,
   "metadata": {},
   "outputs": [
    {
     "name": "stdout",
     "output_type": "stream",
     "text": [
      "\u001b[31mtensorflow 1.7.1 has requirement numpy>=1.13.3, but you'll have numpy 1.12.1 which is incompatible.\u001b[0m\r\n",
      "\u001b[31mipython 6.5.0 has requirement prompt-toolkit<2.0.0,>=1.0.15, but you'll have prompt-toolkit 3.0.5 which is incompatible.\u001b[0m\r\n"
     ]
    }
   ],
   "source": [
    "!pip -q install ./python"
   ]
  },
  {
   "cell_type": "markdown",
   "metadata": {},
   "source": [
    "The environments corresponding to both versions of the environment are already saved in the Workspace and can be accessed at the file paths provided below.  \n",
    "\n",
    "Please select one of the two options below for loading the environment."
   ]
  },
  {
   "cell_type": "code",
   "execution_count": 2,
   "metadata": {},
   "outputs": [
    {
     "name": "stderr",
     "output_type": "stream",
     "text": [
      "INFO:unityagents:\n",
      "'Academy' started successfully!\n",
      "Unity Academy name: Academy\n",
      "        Number of Brains: 1\n",
      "        Number of External Brains : 1\n",
      "        Lesson number : 0\n",
      "        Reset Parameters :\n",
      "\t\tgoal_speed -> 1.0\n",
      "\t\tgoal_size -> 5.0\n",
      "Unity brain name: ReacherBrain\n",
      "        Number of Visual Observations (per agent): 0\n",
      "        Vector Observation space type: continuous\n",
      "        Vector Observation space size (per agent): 33\n",
      "        Number of stacked Vector Observation: 1\n",
      "        Vector Action space type: continuous\n",
      "        Vector Action space size (per agent): 4\n",
      "        Vector Action descriptions: , , , \n"
     ]
    }
   ],
   "source": [
    "from unityagents import UnityEnvironment\n",
    "import numpy as np\n",
    "\n",
    "from collections import deque\n",
    "import matplotlib.pyplot as plt\n",
    "\n",
    "# select this option to load version 1 (with a single agent) of the environment\n",
    "# env = UnityEnvironment(file_name='/data/Reacher_One_Linux_NoVis/Reacher_One_Linux_NoVis.x86_64')\n",
    "\n",
    "# select this option to load version 2 (with 20 agents) of the environment\n",
    "env = UnityEnvironment(file_name='/data/Reacher_Linux_NoVis/Reacher.x86_64')"
   ]
  },
  {
   "cell_type": "markdown",
   "metadata": {},
   "source": [
    "Environments contain **_brains_** which are responsible for deciding the actions of their associated agents. Here we check for the first brain available, and set it as the default brain we will be controlling from Python."
   ]
  },
  {
   "cell_type": "code",
   "execution_count": 3,
   "metadata": {},
   "outputs": [],
   "source": [
    "# get the default brain\n",
    "brain_name = env.brain_names[0]\n",
    "brain = env.brains[brain_name]"
   ]
  },
  {
   "cell_type": "markdown",
   "metadata": {},
   "source": [
    "### 2. Examine the State and Action Spaces\n",
    "\n",
    "Run the code cell below to print some information about the environment."
   ]
  },
  {
   "cell_type": "code",
   "execution_count": 4,
   "metadata": {},
   "outputs": [
    {
     "name": "stdout",
     "output_type": "stream",
     "text": [
      "Number of agents: 20\n",
      "Size of each action: 4\n",
      "There are 20 agents. Each observes a state with length: 33\n",
      "The state for the first agent looks like: [  0.00000000e+00  -4.00000000e+00   0.00000000e+00   1.00000000e+00\n",
      "  -0.00000000e+00  -0.00000000e+00  -4.37113883e-08   0.00000000e+00\n",
      "   0.00000000e+00   0.00000000e+00   0.00000000e+00   0.00000000e+00\n",
      "   0.00000000e+00   0.00000000e+00  -1.00000000e+01   0.00000000e+00\n",
      "   1.00000000e+00  -0.00000000e+00  -0.00000000e+00  -4.37113883e-08\n",
      "   0.00000000e+00   0.00000000e+00   0.00000000e+00   0.00000000e+00\n",
      "   0.00000000e+00   0.00000000e+00   5.75471878e+00  -1.00000000e+00\n",
      "   5.55726624e+00   0.00000000e+00   1.00000000e+00   0.00000000e+00\n",
      "  -1.68164849e-01]\n"
     ]
    }
   ],
   "source": [
    "# reset the environment\n",
    "env_info = env.reset(train_mode=True)[brain_name]\n",
    "\n",
    "# number of agents\n",
    "num_agents = len(env_info.agents)\n",
    "print('Number of agents:', num_agents)\n",
    "\n",
    "# size of each action\n",
    "action_size = brain.vector_action_space_size\n",
    "print('Size of each action:', action_size)\n",
    "\n",
    "# examine the state space \n",
    "states = env_info.vector_observations\n",
    "state_size = states.shape[1]\n",
    "print('There are {} agents. Each observes a state with length: {}'.format(states.shape[0], state_size))\n",
    "print('The state for the first agent looks like:', states[0])"
   ]
  },
  {
   "cell_type": "code",
   "execution_count": 5,
   "metadata": {},
   "outputs": [],
   "source": [
    "from collections import deque, namedtuple\n",
    "\n",
    "import numpy as np\n",
    "import random\n",
    "import torch\n",
    "import torch.nn as nn\n",
    "import torch.nn.functional as F\n",
    "from torch import optim"
   ]
  },
  {
   "cell_type": "code",
   "execution_count": 6,
   "metadata": {},
   "outputs": [],
   "source": [
    "BUFFER_SIZE = int(1e6)\n",
    "BATCH_SIZE = 256\n",
    "ACTOR_LR = 9e-4\n",
    "CRITIC_LR = 9e-4\n",
    "WEIGHT_DECAY = 0\n",
    "TAU = 1e-3\n",
    "GAMMA = 0.99\n",
    "UPDATE_EVERY = 10\n",
    "TIMES_UPDATE = 5\n",
    "device = torch.device(\"cuda:0\" if torch.cuda.is_available() else \"cpu\")"
   ]
  },
  {
   "cell_type": "code",
   "execution_count": 7,
   "metadata": {},
   "outputs": [],
   "source": [
    "def hidden_init(layer):\n",
    "    fan_in = layer.weight.data.size()[0]\n",
    "    lim = 1. / np.sqrt(fan_in)\n",
    "    return (-lim, lim)\n",
    "\n",
    "class CriticNetwork(nn.Module):\n",
    "    \n",
    "    def __init__(self, state_size, action_size, seed):\n",
    "\n",
    "        super(CriticNetwork, self).__init__()\n",
    "        self.seed = torch.manual_seed(seed)\n",
    "        self.critic_layer_1 = nn.Linear(state_size, 256)\n",
    "        self.critic_layer_2 = nn.Linear(256+action_size, 128)\n",
    "        self.critic_out = nn.Linear(128, 1)\n",
    "        self.reset_parameters()\n",
    "\n",
    "    def reset_parameters(self):\n",
    "        self.critic_layer_1.weight.data.uniform_(*hidden_init(self.critic_layer_1))\n",
    "        self.critic_layer_2.weight.data.uniform_(*hidden_init(self.critic_layer_2))\n",
    "        self.critic_out.weight.data.uniform_(-3e-3, 3e-3)\n",
    "    \n",
    "    def forward(self, state, action):\n",
    "#         print(state.size(), action.size())\n",
    "        x = F.leaky_relu(self.critic_layer_1(state))\n",
    "        x = torch.cat([x, action], dim=1)\n",
    "        x = F.leaky_relu(self.critic_layer_2(x))\n",
    "        return self.critic_out(x)\n",
    "\n",
    "class ActorNetwork(nn.Module):\n",
    "\n",
    "    def __init__(self, state_size, action_size, seed):\n",
    "\n",
    "        super(ActorNetwork, self).__init__()\n",
    "        self.seed = torch.manual_seed(seed)\n",
    "        self.actor_layer_1 = nn.Linear(state_size, 256)\n",
    "        self.actor_layer_2 = nn.Linear(256, 128)\n",
    "        self.actor_out = nn.Linear(128, action_size)\n",
    "        self.reset_parameters()\n",
    "\n",
    "    def reset_parameters(self):\n",
    "        self.actor_layer_1.weight.data.uniform_(*hidden_init(self.actor_layer_1))\n",
    "        self.actor_layer_2.weight.data.uniform_(*hidden_init(self.actor_layer_2))\n",
    "        self.actor_out.weight.data.uniform_(-3e-3, 3e-3)\n",
    "    \n",
    "    def forward(self, state):\n",
    "        x = F.leaky_relu(self.actor_layer_1(state))\n",
    "        x = F.leaky_relu(self.actor_layer_2(x))\n",
    "        return torch.tanh(self.actor_out(x))"
   ]
  },
  {
   "cell_type": "code",
   "execution_count": 8,
   "metadata": {},
   "outputs": [],
   "source": [
    "class Network:\n",
    "    def __init__(self, state_size, action_size, seed):\n",
    "        self.seed = seed\n",
    "        self.actor = ActorNetwork(state_size, action_size, seed).to(device)\n",
    "        self.critic = CriticNetwork(state_size, action_size, seed).to(device)\n",
    "\n",
    "    def copy(self, network):\n",
    "        # Actor\n",
    "        for target_param, local_param in zip(self.actor.parameters(), network.actor.parameters()):\n",
    "            target_param.data.copy_(local_param.data)\n",
    "        \n",
    "        # Critic\n",
    "        for target_param, local_param in zip(self.critic.parameters(), network.critic.parameters()):\n",
    "            target_param.data.copy_(local_param.data)\n",
    "    \n",
    "    def soft_update(self, network, tau=TAU):\n",
    "        \n",
    "        # Actor\n",
    "        for target_param, local_param in zip(self.actor.parameters(), network.actor.parameters()):\n",
    "            target_param.data.copy_(tau*local_param.data + (1.0-tau)*target_param.data)\n",
    "        \n",
    "        # Critic\n",
    "        for target_param, local_param in zip(self.critic.parameters(), network.critic.parameters()):\n",
    "            target_param.data.copy_(tau*local_param.data + (1.0-tau)*target_param.data)"
   ]
  },
  {
   "cell_type": "code",
   "execution_count": 9,
   "metadata": {},
   "outputs": [],
   "source": [
    "class ReplayBuffer:\n",
    "    \"\"\"Fixed-size buffer to store experience tuples.\"\"\"\n",
    "\n",
    "    def __init__(self, buffer_size=BUFFER_SIZE, batch_size=BATCH_SIZE, seed=0):\n",
    "        \"\"\"Initialize a ReplayBuffer object.\n",
    "\n",
    "        Params\n",
    "        ======\n",
    "            buffer_size (int): maximum size of buffer\n",
    "            batch_size (int): size of each training batch\n",
    "            seed (int): random seed\n",
    "        \"\"\"\n",
    "        self.memory = deque(maxlen=buffer_size)  \n",
    "        self.batch_size = batch_size\n",
    "        self.experience = namedtuple(\"Experience\", field_names=[\"state\", \"action\", \"reward\", \"next_state\", \"done\"])\n",
    "        self.seed = random.seed(seed)\n",
    "    \n",
    "    def add(self, state, action, reward, next_state, done):\n",
    "        \"\"\"Add a new experience to memory.\"\"\"\n",
    "        e = self.experience(state, action, reward, next_state, done)\n",
    "        self.memory.append(e)\n",
    "    \n",
    "    def sample(self):\n",
    "        \"\"\"Randomly sample a batch of experiences from memory.\"\"\"\n",
    "        experiences = random.sample(self.memory, k=self.batch_size)\n",
    "\n",
    "        states = torch.from_numpy(np.vstack([e.state for e in experiences if e is not None])).float().to(device)\n",
    "        actions = torch.from_numpy(np.vstack([e.action for e in experiences if e is not None])).float().to(device)\n",
    "        rewards = torch.from_numpy(np.vstack([e.reward for e in experiences if e is not None])).float().to(device)\n",
    "        next_states = torch.from_numpy(np.vstack([e.next_state for e in experiences if e is not None])).float().to(device)\n",
    "        dones = torch.from_numpy(np.vstack([e.done for e in experiences if e is not None]).astype(np.uint8)).float().to(device)\n",
    "  \n",
    "        return (states, actions, rewards, next_states, dones)\n",
    "\n",
    "    def __len__(self):\n",
    "        \"\"\"Return the current size of internal memory.\"\"\"\n",
    "        return len(self.memory)"
   ]
  },
  {
   "cell_type": "code",
   "execution_count": 10,
   "metadata": {},
   "outputs": [],
   "source": [
    "class Agent:\n",
    "\n",
    "    def __init__(self, state_size, action_size, random_seed, action_low=-1, action_high=1):\n",
    "        \n",
    "        self.seed = random.seed(random_seed)\n",
    "        \n",
    "        self.state_size = state_size\n",
    "        self.action_size = action_size\n",
    "        self.a_low = action_low\n",
    "        self.a_high = action_high\n",
    "        self.network = Network(state_size, action_size, random_seed)\n",
    "        \n",
    "        self.actor_opt = optim.Adam(self.network.actor.parameters(), lr=ACTOR_LR)\n",
    "        self.critic_opt = optim.Adam(self.network.critic.parameters(), lr=CRITIC_LR, weight_decay=WEIGHT_DECAY)\n",
    "\n",
    "        self.target_network = Network(state_size, action_size, random_seed)\n",
    "        self.ounoise = OUNoise(action_size, action_low, action_high)\n",
    "#         self.target_network.copy(self.network)\n",
    "        self.memory = ReplayBuffer()\n",
    "        self.t_step = 0\n",
    "    \n",
    "    def act(self, state):\n",
    "        \n",
    "        state = torch.tensor(state).float().to(device)\n",
    "        self.network.actor.eval()\n",
    "        with torch.no_grad():\n",
    "            action = self.network.actor(state)\n",
    "            action = action.data.cpu().numpy()\n",
    "        self.network.actor.train()\n",
    "        \n",
    "        return self.ounoise.get_action(action)\n",
    "    \n",
    "    def step(self, state, action, reward, next_state, done):\n",
    "        self.memory.add(state, action, reward, next_state, done)\n",
    "        self.t_step = (self.t_step + 1) % UPDATE_EVERY\n",
    "\n",
    "        if len(self.memory) > BATCH_SIZE and self.t_step == 0:\n",
    "            for i in range(TIMES_UPDATE):\n",
    "                experiences = self.memory.sample()\n",
    "                self.learn(experiences)\n",
    "                self.target_network.soft_update(self.network)\n",
    "    \n",
    "    def learn(self, experiences, gamma=GAMMA):\n",
    "        \n",
    "        states, actions, rewards, next_states, dones = experiences\n",
    "\n",
    "        Q_target_next = self.target_network.critic(next_states, self.target_network.actor(next_states))\n",
    "        Q_target = rewards + (gamma * Q_target_next * (1-dones))\n",
    "        \n",
    "        Q_predicted = self.network.critic(states, actions)\n",
    "        critic_loss = F.mse_loss(Q_predicted, Q_target)\n",
    "        \n",
    "        self.critic_opt.zero_grad()\n",
    "        critic_loss.backward()\n",
    "        torch.nn.utils.clip_grad_norm_(self.network.critic.parameters(), 1)\n",
    "        self.critic_opt.step()\n",
    "\n",
    "        actor_loss = -self.network.critic(states, self.network.actor(states)).mean()\n",
    "        \n",
    "        self.actor_opt.zero_grad()\n",
    "        actor_loss.backward()\n",
    "        self.actor_opt.step()\n"
   ]
  },
  {
   "cell_type": "code",
   "execution_count": 11,
   "metadata": {},
   "outputs": [],
   "source": [
    "\"\"\"\n",
    "Taken from https://github.com/vitchyr/rlkit/blob/master/rlkit/exploration_strategies/ou_strategy.py\n",
    "\"\"\"\n",
    "class OUNoise(object):\n",
    "    def __init__(self, action_size, a_low, a_high, mu=0.0, theta=0.15, max_sigma=0.3, min_sigma=0.3, decay_period=100000):\n",
    "        self.mu           = mu\n",
    "        self.theta        = theta\n",
    "        self.sigma        = max_sigma\n",
    "        self.max_sigma    = max_sigma\n",
    "        self.min_sigma    = min_sigma\n",
    "        self.decay_period = decay_period\n",
    "        self.action_dim   = action_size\n",
    "        self.low          = a_low\n",
    "        self.high         = a_high\n",
    "        self.reset()\n",
    "        \n",
    "    def reset(self):\n",
    "        self.state = np.ones(self.action_dim) * self.mu\n",
    "        \n",
    "    def evolve_state(self):\n",
    "        x  = self.state\n",
    "        dx = self.theta * (self.mu - x) + self.sigma * np.random.randn(self.action_dim)\n",
    "        self.state = x + dx\n",
    "        return self.state\n",
    "    \n",
    "    def get_action(self, action, t=0): \n",
    "        ou_state = self.evolve_state()\n",
    "        self.sigma = self.max_sigma - (self.max_sigma - self.min_sigma) * min(1.0, t / self.decay_period)\n",
    "        return np.clip(action + ou_state, self.low, self.high)"
   ]
  },
  {
   "cell_type": "code",
   "execution_count": 12,
   "metadata": {},
   "outputs": [],
   "source": [
    "def ddpg(agent, env, brain_name, n_episodes=2000, max_t=1000, gamma=GAMMA):\n",
    "    \n",
    "    scores = []\n",
    "    scores_window = deque(maxlen=100)\n",
    "    \n",
    "    for i_ep in range(1, n_episodes+1):\n",
    "        env_info = env.reset(train_mode=True)[brain_name]\n",
    "        states = env_info.vector_observations\n",
    "        score = np.zeros(num_agents)\n",
    "        for t in range(max_t):\n",
    "            actions = agent.act(states)\n",
    "            env_info = env.step(actions)[brain_name]\n",
    "            next_states = env_info.vector_observations\n",
    "            rewards = env_info.rewards\n",
    "            dones = env_info.local_done\n",
    "            for i in range(num_agents):\n",
    "                state = states[i]\n",
    "                action = actions[i]\n",
    "                reward = rewards[i]\n",
    "                next_state = next_states[i]\n",
    "                done = dones[i]\n",
    "                agent.step(state, action, reward, next_state, done)\n",
    "            score += rewards\n",
    "            states = next_states\n",
    "            if done:\n",
    "                break\n",
    "                \n",
    "        scores_window.append(score.mean())\n",
    "        scores.append(score.mean())\n",
    "        print('\\rEpisode {} \\tAverage Score: {:.2f}, Max score: {}, Min score: {}'.format(i_ep, np.mean(scores_window), np.max(scores_window), np.min(scores_window)), end=\"\")\n",
    "\n",
    "        if i_ep % 100 == 0:\n",
    "            print('\\rEpisode {}\\tAverage Score: {:.2f}'.format(i_ep, np.mean(scores_window)))\n",
    "            torch.save(agent.network.actor.state_dict(), f'ddpg_actor_checkpoint.pth') \n",
    "            torch.save(agent.network.critic.state_dict(), f'ddpg_critic_checkpoint.pth')\n",
    "\n",
    "        if np.mean(scores_window) > 30 and i_episode > 100:\n",
    "            print('\\rSolved goal on episode {} with average score {}'.format(i_episode, np.mean(scores_window)))\n",
    "            torch.save(agent.network.actor.state_dict(), f'ddpg_actor_solution.pth') \n",
    "            torch.save(agent.network.critic.state_dict(), f'ddpg_critic_solution.pth')\n",
    "            \n",
    "    return scores"
   ]
  },
  {
   "cell_type": "code",
   "execution_count": 13,
   "metadata": {},
   "outputs": [],
   "source": [
    "agent = Agent(state_size, action_size, 0)"
   ]
  },
  {
   "cell_type": "code",
   "execution_count": null,
   "metadata": {
    "scrolled": true
   },
   "outputs": [
    {
     "name": "stdout",
     "output_type": "stream",
     "text": [
      "Episode 54 \tAverage Score: 7.85, Max score: 13.744999692775309, Min score: 1.0124999773688614"
     ]
    }
   ],
   "source": [
    "scores = ddpg(agent, env, brain_name, n_episodes=300, max_t=1000)\n",
    "\n",
    "fig = plt.figure()\n",
    "ax = fig.add_subplot(111)\n",
    "plt.plot(np.arange(1, len(scores)+1), scores)\n",
    "plt.ylabel('Score')\n",
    "plt.xlabel('Episode #')\n",
    "plt.show()"
   ]
  }
 ],
 "metadata": {
  "kernelspec": {
   "display_name": "Python 3",
   "language": "python",
   "name": "python3"
  },
  "language_info": {
   "codemirror_mode": {
    "name": "ipython",
    "version": 3
   },
   "file_extension": ".py",
   "mimetype": "text/x-python",
   "name": "python",
   "nbconvert_exporter": "python",
   "pygments_lexer": "ipython3",
   "version": "3.6.3"
  }
 },
 "nbformat": 4,
 "nbformat_minor": 2
}
